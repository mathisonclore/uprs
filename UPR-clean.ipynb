{
 "metadata": {
  "name": "",
  "signature": "sha256:43e3f5e50ad6ce4dbb5ee6d0f3ffb4c63c6afc702d67994857a042840cac7606"
 },
 "nbformat": 3,
 "nbformat_minor": 0,
 "worksheets": [
  {
   "cells": [
    {
     "cell_type": "code",
     "collapsed": false,
     "input": [
      "import os\n",
      "import re\n",
      "import csv"
     ],
     "language": "python",
     "metadata": {},
     "outputs": [],
     "prompt_number": 226
    },
    {
     "cell_type": "markdown",
     "metadata": {},
     "source": [
      "### Read in texts and format into dictionary"
     ]
    },
    {
     "cell_type": "code",
     "collapsed": false,
     "input": [
      "def makedict(List):\n",
      "    OuterDict = {}\n",
      "    for line in List:\n",
      "        number = line.split()[0]\n",
      "        if '.' in number:\n",
      "            number = number.replace('.','')            \n",
      "        InnerDict = {}\n",
      "        \n",
      "        InnerDict['to'] = country\n",
      "        InnerDict['year'] = year\n",
      "        InnerDict['paragraph'] = int(number)\n",
      "        InnerDict['text'] = line[len(number)+1:]\n",
      "        InnerDict['from'] = InnerDict['text'].split('(')[-1].split(')')[0]\n",
      "        \n",
      "        #InnerDict['text'] = InnerDict['text'].replace('(' + InnerDict['from']+ ')','') To remove country from text\n",
      "        \n",
      "        if List == support:\n",
      "            InnerDict['decision'] = 'support'\n",
      "        if List == consider:\n",
      "            InnerDict['decision'] = 'consider'\n",
      "        if List == reject:\n",
      "            InnerDict['decision'] = 'reject'\n",
      "        OuterDict[country + '-' + InnerDict['decision'] + '-' + str(InnerDict['paragraph'])] = InnerDict\n",
      "    return(OuterDict)"
     ],
     "language": "python",
     "metadata": {},
     "outputs": [],
     "prompt_number": 227
    },
    {
     "cell_type": "code",
     "collapsed": false,
     "input": [
      "dictionary = {}\n",
      "dir = 'raw-data/txts'\n",
      "for file_name in os.listdir(dir):\n",
      "    print 'processing ' + file_name + '...'\n",
      "    if file_name.endswith(\".txt\"):\n",
      "        country = file_name[:-8]\n",
      "        year = file_name[-8:-4]\n",
      "        f = open(dir + '/' + file_name,'rU')\n",
      "        x = f.read() # read in text\n",
      "        f.close\n",
      "        x = x.split('\\n') # make a list\n",
      "        x = filter(None, x) # get rid of empty string items\n",
      "        \n",
      "        ConclusionsIndex = x.index([s for s in x if \"Conclusions and/or recommendations\" in s][1]) # take the second, because the first is the table of contents\n",
      "        x = x[ConclusionsIndex+1:]\n",
      "        \n",
      "        # take only paragraphs starting with a digit\n",
      "        x = [s for s in x if s[0].isdigit()]\n",
      "        \n",
      "        # Paragraph numbers indicated support, consider, reject\n",
      "        supportP = int(x[1].partition(\".\")[0])\n",
      "        considerP = supportP + 1\n",
      "        rejectP = supportP + 2\n",
      "        \n",
      "        # make separate lists for paragraphs supported, considered, rejected, based on value above.\n",
      "        support = [s for s in x if s.startswith(str(supportP))][1:] # get rid of first line, because that just opens the section.\n",
      "        consider = [s for s in x if s.startswith(str(considerP))][1:]\n",
      "        reject = [s for s in x if s.startswith(str(rejectP))][1:]\n",
      "        \n",
      "        # get rid of main paragarph number, keep only sub paragraph numbers.\n",
      "        support = [s[len(str(supportP))+1:] for s in support]\n",
      "        consider = [s[len(str(considerP))+1:] for s in consider]\n",
      "        reject = [s[len(str(rejectP))+1:] for s in reject]\n",
      "\n",
      "        # make dictionaries using the make_dict function\n",
      "        z = makedict(support)\n",
      "        z.update(makedict(consider))\n",
      "        z.update(makedict(reject))\n",
      "        \n",
      "        # update the main dictionary\n",
      "        dictionary.update(z)\n"
     ],
     "language": "python",
     "metadata": {},
     "outputs": [
      {
       "output_type": "stream",
       "stream": "stdout",
       "text": [
        "processing Afghanistan2014.txt...\n",
        "processing Albania2014.txt...\n",
        "processing Algeria2012.txt...\n",
        "processing Andorra2011.txt...\n"
       ]
      }
     ],
     "prompt_number": 228
    },
    {
     "cell_type": "code",
     "collapsed": false,
     "input": [
      "for item in dictionary.values()[:10]:\n",
      "    print item['text'] # take a peak at the first 10 recommendations"
     ],
     "language": "python",
     "metadata": {},
     "outputs": [
      {
       "output_type": "stream",
       "stream": "stdout",
       "text": [
        "Enhance efforts to eliminate discrimination against Afghan women and to promote leadership and equal participation in political, peace and reconciliation processes (Croatia); \n",
        "Introduce and adopt a gender strategy that would be implemented in the higher education institutions (Turkmenistan); \n",
        "Fully implement the National Strategy on Gender Equality and Against Gender-Based and Domestic Violence and build up the capacity of the police force to deal with such cases, including through additional training programs to help police identify and assist survivors of domestic violence (United States of America); \n",
        "Take action to effectively prevent and fight violence against women, particularly domestic violence (France); \n",
        "Undertake a deep analysis of protection orders for victims of domestic violence that were broken, in order to identify the root causes and take appropriate measures to secure the safety of the victims (Hungary); \n",
        "Organize awareness-raising campaigns at the national level, and especially in rural areas, aimed at preventing violence against children at home and in all institutions in which children are present (Croatia); \n",
        "Establish appropriate shelters and social services for victims of domestic violence, as well as a system of victim compensation and reintegration (Ireland); \n",
        "Ensure that cases of domestic violence are properly investigated and prosecuted (Slovenia); \n",
        "Ensure that all of Afghanistan\ufffds religious communities are able to practice their religion freely and that their right to freedom of religion or belief is protected in any new legislation or legislation currently under review (Canada); \n",
        "Comply with its CEDAW obligations, and undertake further steps to empower women at all levels by creating more employment opportunities and increasing their rights in participation in decision-making (Bahrain); \n"
       ]
      }
     ],
     "prompt_number": 229
    },
    {
     "cell_type": "markdown",
     "metadata": {},
     "source": [
      "### Create dictionary with keywords to label subjects"
     ]
    },
    {
     "cell_type": "code",
     "collapsed": false,
     "input": [
      "keywords = {}"
     ],
     "language": "python",
     "metadata": {},
     "outputs": [],
     "prompt_number": 230
    },
    {
     "cell_type": "code",
     "collapsed": false,
     "input": [
      "keywords['women and family'] = ['women','gender','domestic','girls','home','family','marital','cedaw','marriages','honour killing']\n",
      "keywords['sexual rights'] = ['sexual','lbgt']\n",
      "keywords['children'] = ['children','orphans','child','juvenile']\n",
      "keywords['religion'] = ['religious','religion']\n",
      "keywords['health ande education'] = ['health','healthcare','education','school']\n",
      "keywords['disabilities'] = ['disabilities']\n",
      "keywords['migrants / refugees / trafficking '] = ['statelessness','refugees','migrants','migrant','trafficking','displaced']\n",
      "keywords['rule of law'] = ['democratic','democracy''impunity','corruption','judiciary','rule of law','judicial','legislative','electoral','election','litigation','legal aid']\n",
      "keywords['speech'] = ['assembly','expression','opinion','associations','criminal','journalists']\n",
      "keywords['torture'] = ['torture','ill-treatment','detention','police','corporal punishment','disappearance','cat','detainees']\n",
      "keywords['race and minorities'] = ['race','minorities','ethnic','roma','diversity','racism','discrimination','racist','xenophob']\n",
      "keywords['death penalty'] = ['death sentence','death penalty','capital punishment']\n",
      "keywords['human rights'] = ['human rights']\n",
      "keywords['socioeconomic rights'] = ['economic','job','trade unions','housing','bargain','labour','work','workers','poverty','poor','icescr','socioeconomic','welfare','development','living conditions','infrastructure']"
     ],
     "language": "python",
     "metadata": {},
     "outputs": [],
     "prompt_number": 231
    },
    {
     "cell_type": "code",
     "collapsed": false,
     "input": [
      "# tag recommendations by topic\n",
      "for item in dictionary.values():\n",
      "    text = item['text'].lower()\n",
      "    themes = []\n",
      "    for topic in keywords.keys():\n",
      "        for keyword in keywords[topic]:\n",
      "            if keyword in text:\n",
      "                if topic not in themes:\n",
      "                    themes.append(topic)\n",
      "    item['topics'] = themes\n",
      "                "
     ],
     "language": "python",
     "metadata": {},
     "outputs": [],
     "prompt_number": 232
    },
    {
     "cell_type": "code",
     "collapsed": false,
     "input": [
      "# which recommendations? haven't been tagged?\n",
      "for item in dictionary.values():\n",
      "    if item['topics'] == []:\n",
      "        print item['text']"
     ],
     "language": "python",
     "metadata": {},
     "outputs": [
      {
       "output_type": "stream",
       "stream": "stdout",
       "text": [
        "Advance the reform and the transformation process in accordance with the aspirations of the fraternal Algerian people (Turkey); \n",
        "Step up efforts to respond to questionnaires sent by special procedures mandate holders, and report to the United Nations treaty bodies in a more timely manner in order to thus fulfil its international obligations (Slovenia); \n",
        "Advance in the coordination of the different government departments with competencies on the issue of water (Spain); \n",
        "Continue strengthening the protection of vulnerable groups, such as the group of victims of war (Spain); \n",
        "Continue to support the Saharawi people so that they can exercise their right to self-determination (Namibia); \n",
        "Adopt more effective and strict good governance policies in order to ensure prosperity for the Afghan people (Mauritania);  \n",
        "Strengthen efforts and remain vigilant on the issue of blood feuds (Turkey); \n",
        "Take effective measures to combat cases of blood feuds and follow up those measures (Saudi Arabia); \n",
        "Elaborate a timeframe for visits by the UN Special Procedures who have requested to visit Algeria, and extend invitations accordingly (Norway); \n",
        "Continue cooperation with the Special Procedures of the Council on the basis of its national priorities (Belarus); \n",
        "Consider (Slovenia, Latvia) issuing a standing invitation to Special Procedures mandate holders (Uruguay, Hungary); \n",
        "Respond favourably to UN Special Rapporteurs\ufffd outstanding visit requests and facilitate them when necessary (United Kingdom of Great Britain and Northern Ireland); \n",
        "Overcome its delay in the submission of its reports to the Treaty Bodies (Chad); \n",
        "Respond positively to the visit request by the WGED and invite the Special rapporteur on the promotion of truth, justice, reparation and guarantees of non-recurrence (France); \n",
        "\n",
        "Replace the Law 12-06 of 12 January 2012 by a law on association that will be more in conformity with international standards on this issue (Belgium); \n",
        "While finalizing the new law on administrative and territorial division, take into full account the European Charter of Local Self-Government of the Council of Europe and article 108, paragraph 2, of the Albanian Constitution (the former Yugoslav Republic of Macedonia); \n",
        "Further empowerment of the Legislation Department of the Ministry of Justice in the area of specialized human resources, professional staff and other necessary facilities (Saudi Arabia); \n",
        "Continue efforts in the submission of periodic reports, including by utilizing the potential offered by international cooperation and technical assistance (Algeria); \n",
        "Take measures to ensure that many individuals who are guilty of violence are effectively convicted and put an end to the impunity from which they benefit too often (Belgium); \n",
        "Continue its efforts through cooperation with civil society and combating stereotypes (Angola); \n",
        "Continue measures to combat terrorism, including the financing of terrorism (Sri Lanka); \n",
        "Introduce practical measures, such as alternative means, to shorten periods of imprisonment (Hungary); \n",
        "Consider joining ILO and ratifying its core Conventions (Brazil); \n",
        "Step up its national capacity-building programs for law enforcement officials, including through international cooperation (Egypt); \n",
        "Ratify ILO Convention No. 189 (Israel); \n",
        "Consider ratifying ILO Convention No 2. on Unemployment (Israel); \n",
        "Consider ratifying ILO Convention No. 117 on Social Policy (Israel); \n",
        "Ratify the Optional Protocol of the CRPD (Austria) (Israel) (Rwanda); \n",
        "Consider ratifying the Optional Protocol to the CRPD (Estonia); \n",
        "Sign and ratify the Optional Protocol to the CRPD (Spain); \n",
        "Ratify the European Charter for Regional or Minority Languages (Hungary); \n",
        "Encourage efforts undertaken by the Government to increase the involvement of the Civil Society in the public sphere (Djibouti); \n",
        "Strengthen efforts to eliminate illiteracy, particularly in rural areas (Kyrgyzstan); \n",
        "Respond to the recommendations of the Ombudsman without ignoring them (Saudi Arabia); \n",
        "Consider ratifying ILO Convention No. 118 on Equality of Treatment (Israel); \n",
        "Ensure greater transparency and broader public access to government information and official documents (Czech Republic); \n",
        "Continue to take measures for the holding of public meetings and assemblies in keeping with the newly adopted laws of the country (Russian Federation); \n",
        " Complete the accession (Iraq), evaluate the possibility of ratifying  \n",
        "Accelerate the process of aligning its national legislation with the provisions of the Rome Statute (Tunisia); \n",
        "Review its national legislation in order to ensure its full alignment with obligations under the Rome Statute, in particular by incorporating provisions enabling cooperation with the Court (Latvia); \n",
        " Ratify CED (Uruguay, Chile, France);  \n"
       ]
      }
     ],
     "prompt_number": 233
    },
    {
     "cell_type": "markdown",
     "metadata": {},
     "source": [
      "### writing csv"
     ]
    },
    {
     "cell_type": "code",
     "collapsed": false,
     "input": [
      "keys = dictionary['Afghanistan-support-69'].keys()\n",
      "keys"
     ],
     "language": "python",
     "metadata": {},
     "outputs": [
      {
       "metadata": {},
       "output_type": "pyout",
       "prompt_number": 234,
       "text": [
        "['from', 'text', 'decision', 'to', 'paragraph', 'year', 'topics']"
       ]
      }
     ],
     "prompt_number": 234
    },
    {
     "cell_type": "code",
     "collapsed": false,
     "input": [
      "with open('data.csv', 'wb') as output_file:\n",
      "    dict_writer = csv.DictWriter(output_file, keys)\n",
      "    dict_writer.writeheader()\n",
      "    dict_writer.writerows(dictionary.values())"
     ],
     "language": "python",
     "metadata": {},
     "outputs": [],
     "prompt_number": 235
    },
    {
     "cell_type": "code",
     "collapsed": false,
     "input": [],
     "language": "python",
     "metadata": {},
     "outputs": []
    }
   ],
   "metadata": {}
  }
 ]
}